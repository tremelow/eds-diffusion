{
 "cells": [
  {
   "cell_type": "markdown",
   "metadata": {},
   "source": [
    "# Simulation de processus de Wiener"
   ]
  },
  {
   "cell_type": "code",
   "execution_count": null,
   "metadata": {},
   "outputs": [],
   "source": [
    "import numpy as np\n",
    "import matplotlib.pyplot as plt"
   ]
  },
  {
   "cell_type": "markdown",
   "metadata": {},
   "source": [
    "## Processus de Wiener (mouvement brownien)"
   ]
  },
  {
   "cell_type": "code",
   "execution_count": null,
   "metadata": {},
   "outputs": [],
   "source": [
    "rng = np.random.default_rng(0x25c2751ebede7ef1) # seed = hash(\"Evans - SDE\")\n",
    "\n",
    "n_paths = 50\n",
    "n_points = 2000\n",
    "tf = 6.0\n",
    "t = np.linspace(0.0, tf, n_points + 1)\n",
    "dt = tf / n_points"
   ]
  },
  {
   "cell_type": "markdown",
   "metadata": {},
   "source": [
    "### Calcul du processus\n",
    "\n",
    "$$ W(t + h) \\approx W(t) + \\sqrt{h} Z_t, \\qquad Z_t \\sim \\mathcal{N}(0, 1) . $$"
   ]
  },
  {
   "cell_type": "code",
   "execution_count": null,
   "metadata": {},
   "outputs": [],
   "source": [
    "Z = rng.normal(0.0, dt, (n_paths, n_points))\n",
    "W0 = np.zeros((n_paths, 1))\n",
    "W = np.concatenate((W0, np.cumsum(Z, axis=-1)), axis=-1)\n",
    "\n",
    "fig, ax = plt.subplots(figsize=(9,3))\n",
    "ax.plot(t, W.T)\n",
    "fig.tight_layout()"
   ]
  },
  {
   "cell_type": "markdown",
   "metadata": {},
   "source": [
    "### Intégrale du processus"
   ]
  },
  {
   "cell_type": "code",
   "execution_count": null,
   "metadata": {},
   "outputs": [],
   "source": [
    "W_integ = W0 + dt * np.cumsum(W - W0, axis=-1)\n",
    "\n",
    "fig, ax = plt.subplots(figsize=(9,3))\n",
    "ax.plot(t, W_integ.T)\n",
    "fig.tight_layout()"
   ]
  },
  {
   "cell_type": "markdown",
   "metadata": {},
   "source": [
    "## Exemples d'Evans\n",
    "\n",
    "### Exponentielle brownienne\n",
    "\n",
    "L'équation ${\\rm d}Y = Y\\: {\\rm d}W$ avec $Y(0) = 1$ donne\n",
    "$$ Y(t) = \\exp(W(t) - t/2). $$"
   ]
  },
  {
   "cell_type": "code",
   "execution_count": null,
   "metadata": {},
   "outputs": [],
   "source": [
    "Y = np.exp(W - 0.5 * t)\n",
    "\n",
    "fig, ax = plt.subplots(figsize=(9,3))\n",
    "ax.plot(t, Y.T)\n",
    "fig.tight_layout()"
   ]
  },
  {
   "cell_type": "markdown",
   "metadata": {},
   "source": [
    "$$ \\frac{{\\rm d}P}{P} = \\mu {\\rm d}t + \\sigma {\\rm d}W \\quad\\Leftrightarrow\\quad P(t) = \\exp\\left(\\sigma W(t) + \\bigl(\\mu - \\tfrac12\\sigma^2\\bigr) t \\right) . $$"
   ]
  },
  {
   "cell_type": "code",
   "execution_count": null,
   "metadata": {},
   "outputs": [],
   "source": [
    "p_drift, p_vol = 0.3, 1.0\n",
    "P = np.exp(p_vol * W + (p_drift - 0.5 * p_vol) * t)\n",
    "\n",
    "fig, ax = plt.subplots(figsize=(9,3))\n",
    "ax.plot(t, P.T)\n",
    "fig.tight_layout()"
   ]
  },
  {
   "cell_type": "code",
   "execution_count": null,
   "metadata": {},
   "outputs": [],
   "source": [
    "p_drift, p_vol = 0.8, 1.0\n",
    "P = np.exp(p_vol * W + (p_drift - 0.5 * p_vol) * t)\n",
    "\n",
    "fig, ax = plt.subplots(figsize=(9,3))\n",
    "ax.plot(t, P.T)\n",
    "fig.tight_layout()"
   ]
  },
  {
   "cell_type": "code",
   "execution_count": null,
   "metadata": {},
   "outputs": [],
   "source": [
    "p_drift, p_vol = 0.5, 1.0\n",
    "P = np.exp(p_vol * W + (p_drift - 0.5 * p_vol) * t)\n",
    "\n",
    "fig, ax = plt.subplots(figsize=(9,3))\n",
    "ax.plot(t, P.T)\n",
    "fig.tight_layout()"
   ]
  },
  {
   "cell_type": "code",
   "execution_count": null,
   "metadata": {},
   "outputs": [],
   "source": [
    "p_drift, p_vol = 0.42, 1.0\n",
    "P = np.exp(p_vol * W + (p_drift - 0.5 * p_vol) * t)\n",
    "\n",
    "fig, ax = plt.subplots(figsize=(9,3))\n",
    "ax.plot(t, P.T)\n",
    "fig.tight_layout()"
   ]
  }
 ],
 "metadata": {
  "kernelspec": {
   "language": "python",
   "name": "python3"
  },
  "language_info": {
   "codemirror_mode": {
    "name": "ipython",
    "version": 3
   },
   "file_extension": ".py",
   "mimetype": "text/x-python",
   "name": "python",
   "nbconvert_exporter": "python",
   "pygments_lexer": "ipython3",
   "version": "3.12.2"
  }
 },
 "nbformat": 4,
 "nbformat_minor": 2
}
